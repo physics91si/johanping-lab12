{
 "cells": [
  {
   "cell_type": "code",
   "execution_count": 4,
   "metadata": {
    "collapsed": false
   },
   "outputs": [
    {
     "ename": "SyntaxError",
     "evalue": "invalid syntax (<ipython-input-4-f7ac5de0fcef>, line 22)",
     "output_type": "error",
     "traceback": [
      "\u001b[0;36m  File \u001b[0;32m\"<ipython-input-4-f7ac5de0fcef>\"\u001b[0;36m, line \u001b[0;32m22\u001b[0m\n\u001b[0;31m    match = regex.match((?<name>[A-Z]*[a-z]*,[A-Z]*[a-z]*))\u001b[0m\n\u001b[0m                         ^\u001b[0m\n\u001b[0;31mSyntaxError\u001b[0m\u001b[0;31m:\u001b[0m invalid syntax\n"
     ]
    }
   ],
   "source": [
    "#!/usr/bin/python3.5\n",
    "\n",
    "# Your Name\n",
    "# Physics 91SI Spring 2015\n",
    "# Lab #12, Part 2\n",
    "\n",
    "# Contacts list reader\n",
    "\n",
    "import sys\n",
    "import os\n",
    "import re\n",
    "\n",
    "\n",
    "def read_contacts(file):\n",
    "\t\"\"\"Reads contacts from the given file object, returning them as a list.\"\"\"\n",
    "\t# Sample regex: replace this with your own\n",
    "\t# don't forget the raw string r prefix!\n",
    "\tregex = re.compile(r\"(\\w+),\\s(\\w+).+\")\n",
    "\tcontacts = []\t# Start an empty list\n",
    "\n",
    "\tfor line in file:\n",
    "\t\tmatch = regex.match((?<name>[A-Z]*[a-z]*,[A-Z]*[a-z]*))\n",
    "\t\t# remember that match returns None if it doesn't match!\n",
    "\t\tif match:\n",
    "\t\t\t####\n",
    "\t\t\t# Your code goes here! (replace what's below)\n",
    "\t\t\t####\n",
    "            \n",
    "\t\t\tperson = match.groups()\n",
    "\t\t\tc_dict = match.groupdict()\n",
    "\t\t\tcontacts.append(person)\n",
    "\n",
    "\treturn contacts\n",
    "\n",
    "\n",
    "def print_contacts(contacts):\n",
    "\t\"\"\"Prints contacts from a list, one per line.\"\"\"\n",
    "\t# Pretty printing\n",
    "\t# See if you can figure out the formatting syntax from\n",
    "\t# the example below...\n",
    "\tfor person in contacts:\n",
    "\t\t####\n",
    "\t\t# Your code goes here! (replace what's below)\n",
    "\t\t####\n",
    "\t\tlast, first = person[0:2]\n",
    "\n",
    "\t\t# This is Python's \"string interpolation\"\n",
    "\t\t# for C users, it's very similar to printf\n",
    "\t\tprint (\"%s %s\" % (first, last))\n",
    "\n",
    "\n",
    "def main():\n",
    "\t\"\"\"Read in contacts from a file, and print them to the terminal.\n",
    "\tContacts are printed one per line, in the format:\n",
    "\tJohn Doe: username@domain.com\n",
    "\n",
    "\tUsage: python contacts.py filename\"\"\"\n",
    "\n",
    "\tfilename = sys.argv[1]\n",
    "\tcontacts_file = open(filename)\n",
    "\n",
    "\t# Read in contacts and print them, using above methods\n",
    "\tcontacts = read_contacts(contacts_file)\n",
    "\tprint_contacts(contacts)\n",
    "\n",
    "\tcontacts_file.close()\n",
    "\n",
    "\n",
    "if __name__ == '__main__':\n",
    "\tmain()\n"
   ]
  },
  {
   "cell_type": "code",
   "execution_count": null,
   "metadata": {
    "collapsed": true
   },
   "outputs": [],
   "source": []
  },
  {
   "cell_type": "code",
   "execution_count": null,
   "metadata": {
    "collapsed": true
   },
   "outputs": [],
   "source": []
  }
 ],
 "metadata": {
  "kernelspec": {
   "display_name": "Python 3",
   "language": "python",
   "name": "python3"
  },
  "language_info": {
   "codemirror_mode": {
    "name": "ipython",
    "version": 3
   },
   "file_extension": ".py",
   "mimetype": "text/x-python",
   "name": "python",
   "nbconvert_exporter": "python",
   "pygments_lexer": "ipython3",
   "version": "3.5.1"
  }
 },
 "nbformat": 4,
 "nbformat_minor": 0
}
